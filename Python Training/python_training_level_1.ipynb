{
 "cells": [
  {
   "cell_type": "markdown",
   "id": "4a5ff414",
   "metadata": {},
   "source": [
    "# 🐍 Python Training - Level 1\n",
    "\n",
    "This notebook builds the core Python skills used daily by **Data Engineers** and **Data Analysts** and it is great for interview preparation.  \n",
    "It parallels the SQL Level 1 workbook - focusing on thinking in records (rows of datasets), transformations, and data validation, but using **pure Python**, no libraries.\n",
    "\n",
    "---\n",
    "\n",
    "## Topics covered\n",
    "- Lists, loops, and dictionaries  \n",
    "- Iterators and counting  \n",
    "- Filtering and transformations  \n",
    "- Aggregation (`GROUP BY` logic)  \n",
    "- Data validation and deduplication  \n",
    "- Joining and summarizing data  \n",
    "- Functions & error handling  \n",
    "- Sorting and date handling  \n",
    "- File I/O and comprehensions\n"
   ]
  },
  {
   "cell_type": "markdown",
   "id": "9498f426",
   "metadata": {},
   "source": [
    "## Exercise 1 - Counting Records in a List\n",
    "\n",
    "**Business question:**  \n",
    "\"How many bookings do we have in total, and how many are confirmed?\"  \n",
    "**Direct question:**  \n",
    "Count the total number of bookings and the number of confirmed bookings from the list of booking records.\n",
    "**Goal:**  \n",
    "Use list operations and conditionals - equivalent to `COUNT(*)` and filtered counts in SQL."
   ]
  },
  {
   "cell_type": "code",
   "execution_count": null,
   "id": "e27e3458",
   "metadata": {},
   "outputs": [],
   "source": [
    "# This is a list of booking records that you have access to.\n",
    "# Run this code to define the list, then write your solution below in the other code section.\n",
    "bookings = [\n",
    "    {\"booking_id\": 1, \"status\": \"confirmed\"},\n",
    "    {\"booking_id\": 2, \"status\": \"cancelled\"},\n",
    "    {\"booking_id\": 3, \"status\": \"confirmed\"},\n",
    "    {\"booking_id\": 4, \"status\": \"confirmed\"},\n",
    "]\n"
   ]
  },
  {
   "cell_type": "code",
   "execution_count": null,
   "id": "c3792824",
   "metadata": {},
   "outputs": [],
   "source": [
    "# Give you answer below\n",
    "number_of_bookings = len(bookings)\n",
    "number_of_confirmed_boo"
   ]
  }
 ],
 "metadata": {
  "kernelspec": {
   "display_name": ".venv",
   "language": "python",
   "name": "python3"
  },
  "language_info": {
   "codemirror_mode": {
    "name": "ipython",
    "version": 3
   },
   "file_extension": ".py",
   "mimetype": "text/x-python",
   "name": "python",
   "nbconvert_exporter": "python",
   "pygments_lexer": "ipython3",
   "version": "3.12.1"
  }
 },
 "nbformat": 4,
 "nbformat_minor": 5
}
