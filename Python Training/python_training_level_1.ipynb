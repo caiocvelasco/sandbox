{
 "cells": [
  {
   "cell_type": "markdown",
   "id": "4a5ff414",
   "metadata": {},
   "source": [
    "# 🐍 Python Training - Level 1 - Data Manipulation and ETL Thinking\n",
    "\n",
    "This notebook builds the core Python skills used daily by **Data Engineers** and **Data Analysts** and it is great for interview preparation.  \n",
    "It parallels the SQL Level 1 workbook - focusing on thinking in records (rows of datasets), transformations, and data validation, but using **pure Python**, no libraries.\n",
    "\n",
    "Now that you can access and loop through data (Level 0), we’ll practice how to write concise, reusable, and reliable code for everyday data-engineering tasks.\n",
    "\n",
    "---\n",
    "\n",
    "## Topics covered\n",
    "- List & dict comprehensions  \n",
    "- `map()` and `filter()`  \n",
    "- Lambda functions  \n",
    "- `Counter`, `defaultdict`  \n",
    "- `enumerate()` and `zip()`  \n",
    "- Iterators and generators  \n",
    "- Functions & error handling  \n",
    "- Sorting and dates"
   ]
  },
  {
   "cell_type": "markdown",
   "id": "9498f426",
   "metadata": {},
   "source": [
    "## Exercise 1 - List Comprehensions\n",
    "\n",
    "**Business question:**  \n",
    "\"Can we simplify loops to extract confirmed bookings faster?\"  \n",
    "**Direct question:**  \n",
    "From a list of bookings, build a list of booking_ids where status == \"confirmed\".  \n",
    "**Goal:**  \n",
    "Replace manual loops with concise list comprehensions."
   ]
  },
  {
   "cell_type": "code",
   "execution_count": 1,
   "id": "e27e3458",
   "metadata": {},
   "outputs": [],
   "source": [
    "# Consider this list of dictionaries, each one a booking record.\n",
    "bookings_list = [\n",
    "    {\"id\": 1, \"status\": \"confirmed\"},\n",
    "    {\"id\": 2, \"status\": \"cancelled\"},\n",
    "    {\"id\": 3, \"status\": \"confirmed\"},\n",
    "]"
   ]
  },
  {
   "cell_type": "code",
   "execution_count": 2,
   "id": "c3792824",
   "metadata": {},
   "outputs": [
    {
     "name": "stdout",
     "output_type": "stream",
     "text": [
      "List of bookings with confirmed status:  [1, 3]\n"
     ]
    }
   ],
   "source": [
    "# From a list of bookings, use List Comprehension to build a list of booking_ids where status == \"confirmed\".\n",
    "confirmed_ids_list_comp = [i[\"id\"] for i in bookings_list if i[\"status\"] == \"confirmed\"]\n",
    "print(\"List of bookings with confirmed status: \", confirmed_ids_list_comp)"
   ]
  },
  {
   "cell_type": "markdown",
   "id": "3b6e36c5",
   "metadata": {},
   "source": [
    "## Exercise 2 - Functions\n",
    "\n",
    "**Business question:**  \n",
    "\"How can we reuse logic without rewriting loops?\"  \n",
    "**Direct question:**  \n",
    "Create a function that takes a booking and returns `True` if it’s confirmed.  \n",
    "**Goal:**  \n",
    "Learn how to define and call functions."
   ]
  },
  {
   "cell_type": "code",
   "execution_count": 3,
   "id": "0d69eacb",
   "metadata": {},
   "outputs": [],
   "source": [
    "# Consider that the bookings_list is being used\n",
    "\n",
    "bookings_list = [\n",
    "    {\"id\": 1, \"status\": \"confirmed\"},\n",
    "    {\"id\": 2, \"status\": \"cancelled\"},\n",
    "    {\"id\": 3, \"status\": \"confirmed\"},\n",
    "]"
   ]
  },
  {
   "cell_type": "code",
   "execution_count": 4,
   "id": "a2af7c47",
   "metadata": {},
   "outputs": [],
   "source": [
    "# First, let's define a function that takes an element of the bookings list, which is a dictionary with a booking record,\n",
    "# and returns \"True\" if the status of a booking is confirmed. \n",
    "\n",
    "def is_confirmed(bookings_list):\n",
    "    return bookings_list[\"status\"] == \"confirmed\" # if this condition is met, the function returns \"True\""
   ]
  },
  {
   "cell_type": "code",
   "execution_count": 5,
   "id": "86bc9906",
   "metadata": {},
   "outputs": [
    {
     "name": "stdout",
     "output_type": "stream",
     "text": [
      "1 :  True\n",
      "2 :  False\n",
      "3 :  True\n"
     ]
    }
   ],
   "source": [
    "# Now, iterate thought the list with a for loop and generate True or False for each booking record\n",
    "\n",
    "for i in bookings_list:\n",
    "    print(i[\"id\"], \": \", is_confirmed(i) )"
   ]
  },
  {
   "cell_type": "markdown",
   "id": "8acd397e",
   "metadata": {},
   "source": [
    "## Exercise 3 - Lambda Functions (Generic Example)\n",
    "\n",
    "**Business question:**  \n",
    "\"What if we need a one-line function for something simple?\"  \n",
    "**Direct question:**  \n",
    "Write a lambda that adds 10 to a number, and another that joins first name (Alice) and last name (Mora).  \n",
    "**Goal:**  \n",
    "Learn lambda syntax before using it with data structures."
   ]
  },
  {
   "cell_type": "code",
   "execution_count": 6,
   "id": "ce75e66b",
   "metadata": {},
   "outputs": [
    {
     "name": "stdout",
     "output_type": "stream",
     "text": [
      "12\n"
     ]
    }
   ],
   "source": [
    "# Create a Lambda Function that adds 10 to a number\n",
    "add_ten_lambda_function = lambda x: x + 10\n",
    "\n",
    "# Now, print this function by taking the number 2\n",
    "# Note: the print needs to be in the same code block!\n",
    "print(add_ten_lambda_function(2))"
   ]
  },
  {
   "cell_type": "code",
   "execution_count": 7,
   "id": "a2f39bba",
   "metadata": {},
   "outputs": [
    {
     "name": "stdout",
     "output_type": "stream",
     "text": [
      "Alice Mora\n"
     ]
    }
   ],
   "source": [
    "# Now, create a Lambda Function that joins first name (Alice) and last name (Mora)\n",
    "join_names_lambda_function = lambda first,last: f\"{first} {last}\"\n",
    "\n",
    "# Now, print this function by with first = \"Alice\" and last = \"Mora\"    \n",
    "# Note: the print needs to be in the same code block!\n",
    "print(join_names_lambda_function(\"Alice\", \"Mora\"))\n",
    "\n"
   ]
  },
  {
   "cell_type": "markdown",
   "id": "82f6a5b4",
   "metadata": {},
   "source": [
    "## Exercise 4 - Lambda Functions in Practice\n",
    "\n",
    "**Business question:**  \n",
    "\"Can we check booking status without defining a full function?\"  \n",
    "**Direct question:**  \n",
    "Use a lambda function to test whether a booking is confirmed. It should return `True` if confirmed, for each booking.  \n",
    "**Goal:**  \n",
    "Apply lambda to real data instead of just numbers."
   ]
  },
  {
   "cell_type": "code",
   "execution_count": 8,
   "id": "5a6ee6b1",
   "metadata": {},
   "outputs": [],
   "source": [
    "# Consider the same bookings_list\n",
    "bookings_list = [\n",
    "    {\"id\": 1, \"status\": \"confirmed\"},\n",
    "    {\"id\": 2, \"status\": \"cancelled\"},\n",
    "    {\"id\": 3, \"status\": \"confirmed\"},\n",
    "]"
   ]
  },
  {
   "cell_type": "code",
   "execution_count": 9,
   "id": "1c05f774",
   "metadata": {},
   "outputs": [
    {
     "name": "stdout",
     "output_type": "stream",
     "text": [
      "1 :  True\n",
      "2 :  False\n",
      "3 :  True\n"
     ]
    }
   ],
   "source": [
    "# Create a Lambda Function that does the same as the is_confirmed function (returns True if status is confirmed)\n",
    "is_confirmed_lambda_function = lambda x: x[\"status\"] == \"confirmed\"\n",
    "\n",
    "# Now, print this function for each record of the bookings_list    \n",
    "# Note: the print needs to be in the same code block!\n",
    "for i in bookings_list:\n",
    "    print(i[\"id\"], \": \", is_confirmed_lambda_function(i))\n"
   ]
  },
  {
   "cell_type": "markdown",
   "id": "0cf3b72a",
   "metadata": {},
   "source": [
    "## Understanding Iterables, Iterators, and Generators\n",
    "\n",
    "### 1. **Iterable**  \n",
    "An **iterable** is any object that you can loop over.  \n",
    "\n",
    "Examples:  \n",
    "- `list`, `tuple`, `str`, `dict`, `set`, `range()`  \n",
    "\n",
    "👉 Think of it as a *collection* of data that can be traversed.\n",
    "\n",
    "```python\n",
    "for n in [10, 20, 30]:\n",
    "    print(n)\n",
    "```\n",
    "\n",
    "### 2. **Iterator**  \n",
    "An **iterator** is what Python actually uses to get values one at a time from an iterable.\n",
    "\n",
    "You can create one by calling `iter()` on an iterable, and then call `next()` to move step-by-step.\n",
    "\n",
    "```python\n",
    "nums = [10, 20, 30]\n",
    "it = iter(nums)\n",
    "print(next(it))   # 10\n",
    "print(next(it))   # 20\n",
    "print(next(it))   # 30\n",
    "```\n",
    "\n",
    "After the last element, calling another next(it) would raise `StopIteration` error.\n",
    "\n",
    "### 3. **Generator**  \n",
    "A **generator** is a special type of iterator that you write yourself with the yield keyword. Instead of building a list in memory, it **produces** values one by one only when needed.\n",
    "\n",
    "```python\n",
    "def number_stream():\n",
    "    for n in [10, 20, 30]:\n",
    "        yield n   # yield returns one item, pauses, and remembers where it left off\n",
    "\n",
    "stream = number_stream()\n",
    "print(next(stream))  # 10\n",
    "print(next(stream))  # 20\n",
    "print(next(stream))  # 30\n",
    "```\n",
    "\n",
    "Generators are automatically iterators — you can loop over them or call next() directly.\n",
    "\n",
    "**Why It Matters**  \n",
    "Functions like `map()`, `filter()`, and `generator functions` don’t create full lists right away.  \n",
    "They return iterators, meaning they produce data on demand, one element at a time — this is called lazy evaluation.\n",
    "\n",
    "Why this is useful:\n",
    "- Saves memory for large datasets\n",
    "- Enables real-time or streaming data processing\n",
    "- You can always convert to a list when you actually need all results:\n",
    "\n",
    "```python\n",
    "list(map(...))\n",
    "list(filter(...))\n",
    "```"
   ]
  },
  {
   "cell_type": "markdown",
   "id": "a24f5a32",
   "metadata": {},
   "source": [
    "## Exercise 5 - Iterables vs Iterators (Conceptual Example)\n",
    "\n",
    "**Business question:**  \n",
    "\"How does Python read through a list one element at a time?\"  \n",
    "**Direct question:**  \n",
    "Turn a list into an iterator and use next() manually to see how it works.  \n",
    "**Goal:**  \n",
    "Understand what iter() and next() actually do."
   ]
  },
  {
   "cell_type": "code",
   "execution_count": 10,
   "id": "0f424b34",
   "metadata": {},
   "outputs": [
    {
     "name": "stdout",
     "output_type": "stream",
     "text": [
      "10\n",
      "20\n",
      "30\n"
     ]
    }
   ],
   "source": [
    "# Consider a list of numbers\n",
    "numbers = [10, 20, 30]   # This list is an *iterable* in this case\n",
    "\n",
    "# See how the pre-built function iter() holds the items of the iterable \n",
    "it = iter(numbers)       # Now, return an interator \"it\" from the list `numbers`\n",
    "\n",
    "# See how you would print the items one by one manually using the iterator idea that iterates over the iterable (the list)\n",
    "print(next(it))   # 10\n",
    "print(next(it))   # 20\n",
    "print(next(it))   # 30\n",
    "\n",
    "# printing next(it) again now would cause a StopIteration error - it's “exhausted”, i.e., the list is over.\n",
    "# print(next(it)) "
   ]
  },
  {
   "cell_type": "markdown",
   "id": "bbb2cdb7",
   "metadata": {},
   "source": [
    "## Exercise 6 – Creating Your Own Generator\n",
    "\n",
    "**Business question:**  \n",
    "\"Our API returns thousands of transactions. I don’t want to load everything into memory - I just want to process one transaction at a time, in order.\"  \n",
    "\n",
    "**Direct question:**  \n",
    "Write a generator function `stream_payments()` that yields one payment record at a time. Then:  \n",
    "1. Grab the first payment with `next()`.  \n",
    "2. Loop through the rest.\n",
    "\n",
    "**Goal:**  \n",
    "Understand how `yield` lets you build your own iterator (a lazy data stream)."
   ]
  },
  {
   "cell_type": "code",
   "execution_count": 11,
   "id": "a7fdcba4",
   "metadata": {},
   "outputs": [],
   "source": [
    "# Consider this stream of payments\n",
    "payments_list = [\n",
    "        {\"payment_id\": 101, \"user\": \"alice\", \"amount\": 29.90},\n",
    "        {\"payment_id\": 102, \"user\": \"bob\",   \"amount\": 12.00},\n",
    "        {\"payment_id\": 103, \"user\": \"carol\", \"amount\": 7.50},\n",
    "    ]"
   ]
  },
  {
   "cell_type": "code",
   "execution_count": 12,
   "id": "884beba0",
   "metadata": {},
   "outputs": [],
   "source": [
    "# Create the \"generator function\", i.e., create a generator of iterators\n",
    "def stream_payments():\n",
    "    \"\"\"\n",
    "    A simple generator that yields one payment dictionary at a time.\n",
    "    Instead of returning a full list, it pauses at each `yield`\n",
    "    until the next item is requested.\n",
    "    \"\"\"\n",
    "    for p in payments_list:\n",
    "        # \"yield\" sends one record at a time\n",
    "        yield p"
   ]
  },
  {
   "cell_type": "code",
   "execution_count": 13,
   "id": "833c362b",
   "metadata": {},
   "outputs": [
    {
     "name": "stdout",
     "output_type": "stream",
     "text": [
      "<generator object stream_payments at 0x000001E4AA088880>\n"
     ]
    }
   ],
   "source": [
    "# Create a generator object, i.e., create the \"iter\" object, which will create the iterator to go over some object\n",
    "payments_iter = stream_payments() \n",
    "\n",
    "print(payments_iter)  # Result: <generator object ...>\n",
    "\n",
    "# This is still not the payment record! We need to use next() on it!"
   ]
  },
  {
   "cell_type": "code",
   "execution_count": 14,
   "id": "ba0c7ab2",
   "metadata": {},
   "outputs": [
    {
     "name": "stdout",
     "output_type": "stream",
     "text": [
      "First payment record: {'payment_id': 101, 'user': 'alice', 'amount': 29.9}\n",
      "Second payment record: {'payment_id': 102, 'user': 'bob', 'amount': 12.0}\n",
      "Third payment record: {'payment_id': 103, 'user': 'carol', 'amount': 7.5}\n"
     ]
    }
   ],
   "source": [
    "# Pull items manually from the iterator\n",
    "first_payment_record = next(payments_iter)\n",
    "print(\"First payment record:\", first_payment_record)\n",
    "\n",
    "print(\"Second payment record:\", next(payments_iter))\n",
    "print(\"Third payment record:\", next(payments_iter))\n",
    "\n",
    "# If you call next() again, you'll get `StopIteration` error\n",
    "# next(payments_iter)"
   ]
  },
  {
   "cell_type": "code",
   "execution_count": 15,
   "id": "3a54cdf6",
   "metadata": {},
   "outputs": [
    {
     "name": "stdout",
     "output_type": "stream",
     "text": [
      "Processing payment: 101 amount: 29.9\n",
      "Processing payment: 102 amount: 12.0\n",
      "Processing payment: 103 amount: 7.5\n"
     ]
    }
   ],
   "source": [
    "# Now, let's be more efficient and loop over a generator (typical ETL usage), printing each value of each key separately\n",
    "\n",
    "# Here we are iterating over an *iterator* that yields dictionaries.\n",
    "# In each iteration, `i` is one dictionary with keys:\n",
    "#   \"payment_id\", \"user\", and \"amount\".\n",
    "# We access each key explicitly while printing its values.\n",
    "\n",
    "for i in stream_payments():\n",
    "    print(\"Processing payment:\", i[\"payment_id\"], \"amount:\", i[\"amount\"])"
   ]
  },
  {
   "cell_type": "markdown",
   "id": "c4319e9a",
   "metadata": {},
   "source": [
    "## Exercise 7 – `map()`, `filter()`, `enumerate()`, and `zip()`\n",
    "\n",
    "**Business question:**  \n",
    "\"Our marketing team has spend and clicks per channel. We want:  \n",
    "(a) cost per click,  \n",
    "(b) keep only efficient channels, and  \n",
    "(c) produce a clean ranked report.\"  \n",
    "\n",
    "**Direct question:**  \n",
    "Given parallel lists of `channels`, `spend`, and `clicks`:\n",
    "1. Use `zip()` to combine them into records.  \n",
    "2. Use `map()` to compute CPC = spend / clicks for each channel.  \n",
    "3. Use `filter()` to keep only channels with CPC < 1.00.  \n",
    "4. Use `enumerate()` to assign a ranking number starting from 1.\n",
    "\n",
    "**Goal:**  \n",
    "Practice the “Python data pipeline mindset”: transform → filter → label."
   ]
  },
  {
   "cell_type": "code",
   "execution_count": 16,
   "id": "9097cd3d",
   "metadata": {},
   "outputs": [],
   "source": [
    "# Consider these lists\n",
    "\n",
    "channels_ls = [\"instagram\", \"tiktok\", \"email\", \"youtube\"]\n",
    "spend_ls    = [120.0,       80.0,      10.0,    200.0]\n",
    "clicks_ls   = [150,         40,        30,      100]"
   ]
  },
  {
   "cell_type": "code",
   "execution_count": 17,
   "id": "4236c603",
   "metadata": {},
   "outputs": [],
   "source": [
    "# Step 1. Combine with zip() - Creating a list of tuples\n",
    "# This will transform the data above into an idea of \"records\"\n",
    "\n",
    "combined_list = list(zip(channels_ls, spend_ls, clicks_ls))"
   ]
  },
  {
   "cell_type": "code",
   "execution_count": 18,
   "id": "62d16073",
   "metadata": {},
   "outputs": [
    {
     "name": "stdout",
     "output_type": "stream",
     "text": [
      "[('instagram', 120.0, 150), ('tiktok', 80.0, 40), ('email', 10.0, 30), ('youtube', 200.0, 100)]\n"
     ]
    }
   ],
   "source": [
    "# Print this combined list\n",
    "print(combined_list)"
   ]
  },
  {
   "cell_type": "code",
   "execution_count": 19,
   "id": "251031af",
   "metadata": {},
   "outputs": [
    {
     "name": "stdout",
     "output_type": "stream",
     "text": [
      "<class 'list'>\n"
     ]
    }
   ],
   "source": [
    "# Check the type\n",
    "print(type(combined_list))"
   ]
  },
  {
   "cell_type": "code",
   "execution_count": 20,
   "id": "e053fecb",
   "metadata": {},
   "outputs": [
    {
     "name": "stdout",
     "output_type": "stream",
     "text": [
      "Records with CPC:\n",
      "{'channel': 'instagram', 'spend': 120.0, 'clicks': 150, 'cpc': 0.8}\n",
      "{'channel': 'tiktok', 'spend': 80.0, 'clicks': 40, 'cpc': 2.0}\n",
      "{'channel': 'email', 'spend': 10.0, 'clicks': 30, 'cpc': 0.3333333333333333}\n",
      "{'channel': 'youtube', 'spend': 200.0, 'clicks': 100, 'cpc': 2.0}\n"
     ]
    }
   ],
   "source": [
    "# Step 2. Create a function to compute CPC\n",
    "# This function will take one record (a tuple) and return a dictionary with channel, spend, clicks, and cpc\n",
    "def compute_cpc(record):\n",
    "    i_channel, i_spends, i_clicks = record\n",
    "    return {\"channel\": i_channel, \"spend\": i_spends, \"clicks\": i_clicks, \"cpc\": i_spends / i_clicks}\n",
    "\n",
    "# The map() function applies compute_cpc to each item in combined_list\n",
    "# It returns an iterator, so we convert it to a list\n",
    "record_with_cpc_list = list(map(compute_cpc, combined_list))\n",
    "print(\"Records with CPC:\")\n",
    "for row in record_with_cpc_list:\n",
    "    print(row)"
   ]
  },
  {
   "cell_type": "code",
   "execution_count": 21,
   "id": "872e5352",
   "metadata": {},
   "outputs": [],
   "source": [
    "# Step 3. Filter efficient channels (CPC < 1)\n",
    "# Define a function that returns True if cpc < 1.0\n",
    "def is_efficient(row):\n",
    "    return row[\"cpc\"] < 1.0\n",
    "\n",
    "filtered_list = list(filter(is_efficient, record_with_cpc_list))"
   ]
  },
  {
   "cell_type": "code",
   "execution_count": 22,
   "id": "1cb944fa",
   "metadata": {},
   "outputs": [
    {
     "name": "stdout",
     "output_type": "stream",
     "text": [
      "[{'channel': 'instagram', 'spend': 120.0, 'clicks': 150, 'cpc': 0.8}, {'channel': 'email', 'spend': 10.0, 'clicks': 30, 'cpc': 0.3333333333333333}]\n"
     ]
    }
   ],
   "source": [
    "# Print the filtered list\n",
    "print(filtered_list)"
   ]
  },
  {
   "cell_type": "code",
   "execution_count": 23,
   "id": "217bd79a",
   "metadata": {},
   "outputs": [
    {
     "name": "stdout",
     "output_type": "stream",
     "text": [
      "Filtered channels (CPC < 1.0):\n",
      "{'channel': 'instagram', 'spend': 120.0, 'clicks': 150, 'cpc': 0.8}\n",
      "{'channel': 'email', 'spend': 10.0, 'clicks': 30, 'cpc': 0.3333333333333333}\n"
     ]
    }
   ],
   "source": [
    "# Print each element of the filtered list\n",
    "print(\"Filtered channels (CPC < 1.0):\")\n",
    "for i in filtered_list:\n",
    "    print(i)"
   ]
  },
  {
   "cell_type": "code",
   "execution_count": null,
   "id": "cacc5aca",
   "metadata": {},
   "outputs": [],
   "source": [
    "# Step 4. Rank results with enumerate()\n",
    "\n",
    "# Enumerate will add a ranking number to each element of the filtered list.\n",
    "# enumerate() produces (index, value) pairs\n",
    "# It works like a for loop but automatically provides a counter.\n",
    "# A counter is a number that increments with each iteration.\n",
    "# Example: iterate over any iterable while keeping track of the index."
   ]
  },
  {
   "cell_type": "code",
   "execution_count": 25,
   "id": "5b70398f",
   "metadata": {},
   "outputs": [],
   "source": [
    "# Generic example of how enumerate() works. Consider this list.\n",
    "fruits = [\"apple\", \"banana\", \"cherry\"]"
   ]
  },
  {
   "cell_type": "code",
   "execution_count": 26,
   "id": "d66b6171",
   "metadata": {},
   "outputs": [
    {
     "name": "stdout",
     "output_type": "stream",
     "text": [
      "1 apple\n",
      "2 banana\n",
      "3 cherry\n"
     ]
    }
   ],
   "source": [
    "# enumerate() returns pairs like: (0, 'apple'), (1, 'banana'), (2, 'cherry')\n",
    "# The 'start=1' parameter makes counting start from 1 instead of 0.\n",
    "\n",
    "for index, fruit in enumerate(fruits, start=1):\n",
    "    print(index, fruit)"
   ]
  },
  {
   "cell_type": "code",
   "execution_count": null,
   "id": "a036141c",
   "metadata": {},
   "outputs": [
    {
     "name": "stdout",
     "output_type": "stream",
     "text": [
      "\n",
      "Ranked report:\n",
      "{'rank': 1, 'channel': 'instagram', 'cpc': 0.8}\n",
      "{'rank': 2, 'channel': 'email', 'cpc': 0.333}\n"
     ]
    }
   ],
   "source": [
    "# Applying enumerate() to our efficient filtered channels list\n",
    "# Enumerate will add a ranking number to each efficient channel. It works like a for loop but adds a counter.\n",
    "\n",
    "ranked_report = []\n",
    "for rank, row in enumerate(filtered_list, start=1):\n",
    "    # Here, 'row' is a dictionary from our filtered list,\n",
    "    # and 'rank' is an automatically increasing integer.\n",
    "    ranked_report.append({ # construct a new dictionary with rank, channel, and cpc\n",
    "        \"rank\": rank, # the ranking number\n",
    "        \"channel\": row[\"channel\"], # the channel name, which is accessed from the row dictionary\n",
    "        \"cpc\": round(row[\"cpc\"], 3) # rounding cpc to 3 decimal places\n",
    "    })\n",
    "\n",
    "print(\"\\nRanked report:\")\n",
    "for row in ranked_report:\n",
    "    print(row)"
   ]
  }
 ],
 "metadata": {
  "kernelspec": {
   "display_name": ".venv",
   "language": "python",
   "name": "python3"
  },
  "language_info": {
   "codemirror_mode": {
    "name": "ipython",
    "version": 3
   },
   "file_extension": ".py",
   "mimetype": "text/x-python",
   "name": "python",
   "nbconvert_exporter": "python",
   "pygments_lexer": "ipython3",
   "version": "3.12.1"
  }
 },
 "nbformat": 4,
 "nbformat_minor": 5
}
