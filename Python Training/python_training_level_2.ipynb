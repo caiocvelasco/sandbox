{
 "cells": [
  {
   "cell_type": "markdown",
   "id": "aec3f797",
   "metadata": {},
   "source": [
    "# Level 3 - Pandas Foundations & Data Manipulation\n",
    "\n",
    "**Motivation**\n",
    "\n",
    "So far, you’ve learned how to process data using **core Python** - lists, dictionaries, loops, comprehensions, and generators.\n",
    "\n",
    "But real-world datasets are **larger and tabular**.  \n",
    "They often come from CSV exports, APIs, or databases - thousands of rows with many columns.  \n",
    "Manually looping over them is inefficient and unreadable.\n",
    "\n",
    "We need a tool that:\n",
    "- Handles data in columns (like Excel or SQL),\n",
    "- Works fast and expressively,\n",
    "- Integrates with the rest of the Python ecosystem.\n",
    "\n",
    "That tool is **pandas**.\n",
    "\n",
    "---\n",
    "\n",
    "**Business Need**\n",
    "\n",
    "Imagine an **e-commerce company** that tracks:\n",
    "- Marketing spend and clicks per channel,\n",
    "- Orders and revenue per day,\n",
    "- Conversions per user.\n",
    "\n",
    "The data arrives as CSV exports from marketing and sales systems.  \n",
    "The analyst needs to:\n",
    "1. Clean and inspect the data,  \n",
    "2. Compute metrics like **CPC** (Cost per Click) and **ROI**,  \n",
    "3. Group and summarize by date or channel,  \n",
    "4. Merge data from multiple sources.\n",
    "\n",
    "Each exercise in this level simulates part of that real-world analytics process."
   ]
  },
  {
   "cell_type": "markdown",
   "id": "e1fee0f3",
   "metadata": {},
   "source": [
    "## Exercise 1 - Creating and Inspecting DataFrames\n",
    "\n",
    "**Business question:**  \n",
    "\"Our marketing analyst exports weekly performance data from multiple ad platforms.  \n",
    "Before we can clean or analyze it, we need to load it into a tabular structure we can explore.\"\n",
    "\n",
    "**Direct question:**  \n",
    "Create a small dataset containing channel spend, clicks, and conversions;  \n",
    "store it in a pandas DataFrame; and inspect its structure and summary statistics.\n",
    "\n",
    "**Goal:**  \n",
    "Understand the basic `DataFrame` and `Series` objects.  \n",
    "- Create DataFrames from lists and dictionaries.  \n",
    "- Inspect data with `.head()`, `.info()`, `.describe()`.  \n",
    "- Understand index, columns, and dtypes."
   ]
  },
  {
   "cell_type": "code",
   "execution_count": 1,
   "id": "b70741ef",
   "metadata": {},
   "outputs": [],
   "source": [
    "# First, import pandas\n",
    "import pandas as pd"
   ]
  },
  {
   "cell_type": "code",
   "execution_count": 3,
   "id": "464ad565",
   "metadata": {},
   "outputs": [],
   "source": [
    "# Create a dictionary of lists - our mock marketing dataset\n",
    "# Each key will become a column name.\n",
    "# Each list will become the column’s values.\n",
    "data = {\n",
    "    \"channel\": [\"instagram\", \"tiktok\", \"email\", \"youtube\", \"google\"],\n",
    "    \"spend\":   [120.0, 80.0, 10.0, 200.0, 150.0],\n",
    "    \"clicks\":  [150, 40, 30, 100, 200],\n",
    "    \"orders\":  [10, 4, 1, 8, 12]\n",
    "}"
   ]
  },
  {
   "cell_type": "code",
   "execution_count": 4,
   "id": "b9d482e2",
   "metadata": {},
   "outputs": [],
   "source": [
    "# Create the DataFrame from the dictionary\n",
    "df = pd.DataFrame(data)"
   ]
  },
  {
   "cell_type": "code",
   "execution_count": 5,
   "id": "3bd9657f",
   "metadata": {},
   "outputs": [
    {
     "name": "stdout",
     "output_type": "stream",
     "text": [
      "First rows:\n",
      "     channel  spend  clicks  orders\n",
      "0  instagram  120.0     150      10\n",
      "1     tiktok   80.0      40       4\n",
      "2      email   10.0      30       1\n",
      "3    youtube  200.0     100       8\n",
      "4     google  150.0     200      12\n"
     ]
    }
   ],
   "source": [
    "# Inspect the structure and content of this DataFrame\n",
    "print(\"First rows:\")\n",
    "print(df.head())       # Show first 5 rows"
   ]
  },
  {
   "cell_type": "code",
   "execution_count": 6,
   "id": "52007df4",
   "metadata": {},
   "outputs": [
    {
     "name": "stdout",
     "output_type": "stream",
     "text": [
      "Info about columns and dtypes:\n",
      "<class 'pandas.core.frame.DataFrame'>\n",
      "RangeIndex: 5 entries, 0 to 4\n",
      "Data columns (total 4 columns):\n",
      " #   Column   Non-Null Count  Dtype  \n",
      "---  ------   --------------  -----  \n",
      " 0   channel  5 non-null      object \n",
      " 1   spend    5 non-null      float64\n",
      " 2   clicks   5 non-null      int64  \n",
      " 3   orders   5 non-null      int64  \n",
      "dtypes: float64(1), int64(2), object(1)\n",
      "memory usage: 292.0+ bytes\n",
      "None\n"
     ]
    }
   ],
   "source": [
    "print(\"Info about columns and dtypes:\")\n",
    "print(df.info())       # Show column names, data types, and non-null counts"
   ]
  },
  {
   "cell_type": "code",
   "execution_count": 7,
   "id": "dfa5acef",
   "metadata": {},
   "outputs": [
    {
     "name": "stdout",
     "output_type": "stream",
     "text": [
      "\n",
      "Basic statistics for numeric columns:\n",
      "            spend      clicks     orders\n",
      "count    5.000000    5.000000   5.000000\n",
      "mean   112.000000  104.000000   7.000000\n",
      "std     71.902712   72.318739   4.472136\n",
      "min     10.000000   30.000000   1.000000\n",
      "25%     80.000000   40.000000   4.000000\n",
      "50%    120.000000  100.000000   8.000000\n",
      "75%    150.000000  150.000000  10.000000\n",
      "max    200.000000  200.000000  12.000000\n"
     ]
    }
   ],
   "source": [
    "print(\"\\nBasic statistics for numeric columns:\")\n",
    "print(df.describe())   # Descriptive stats: mean, std, min, max, etc."
   ]
  },
  {
   "cell_type": "code",
   "execution_count": 13,
   "id": "baf43800",
   "metadata": {},
   "outputs": [
    {
     "name": "stdout",
     "output_type": "stream",
     "text": [
      "channel     object\n",
      "spend      float64\n",
      "clicks       int64\n",
      "orders       int64\n",
      "dtype: object\n"
     ]
    }
   ],
   "source": [
    "# If you want to access the types of each column of this DataFrame\n",
    "print(df.dtypes)     # Data types of each column"
   ]
  },
  {
   "cell_type": "code",
   "execution_count": 8,
   "id": "7ce5216f",
   "metadata": {},
   "outputs": [
    {
     "name": "stdout",
     "output_type": "stream",
     "text": [
      "0    120.0\n",
      "1     80.0\n",
      "2     10.0\n",
      "3    200.0\n",
      "4    150.0\n",
      "Name: spend, dtype: float64\n"
     ]
    }
   ],
   "source": [
    "# Accessing the Pandas Series (columns) and metadata\n",
    "print(df[\"spend\"])     # Access column. Note that the column is a list-like Series object"
   ]
  },
  {
   "cell_type": "code",
   "execution_count": 9,
   "id": "a95834fd",
   "metadata": {},
   "outputs": [
    {
     "name": "stdout",
     "output_type": "stream",
     "text": [
      "Column names: Index(['channel', 'spend', 'clicks', 'orders'], dtype='object')\n"
     ]
    }
   ],
   "source": [
    "print(\"Column names:\", df.columns)  # List of column names"
   ]
  },
  {
   "cell_type": "code",
   "execution_count": 10,
   "id": "6eb0d50a",
   "metadata": {},
   "outputs": [
    {
     "name": "stdout",
     "output_type": "stream",
     "text": [
      "Columns: ['channel', 'spend', 'clicks', 'orders']\n"
     ]
    }
   ],
   "source": [
    "# If you want to transform the columns to a list of columns, you need to apply a function to the Pandas Series\n",
    "print(\"Columns:\", df.columns.tolist())   # List of column names"
   ]
  },
  {
   "cell_type": "code",
   "execution_count": 14,
   "id": "2142499d",
   "metadata": {},
   "outputs": [
    {
     "name": "stdout",
     "output_type": "stream",
     "text": [
      "Shape (rows, columns): (5, 4)\n"
     ]
    }
   ],
   "source": [
    "# Print the \"shape\" of this df, i.e., the number of rows and columns, like a matrix\n",
    "print(\"Shape (rows, columns):\", df.shape)  # Tuple of dataset dimensions "
   ]
  },
  {
   "cell_type": "code",
   "execution_count": 16,
   "id": "b237afad",
   "metadata": {},
   "outputs": [
    {
     "name": "stdout",
     "output_type": "stream",
     "text": [
      "Index: RangeIndex(start=0, stop=5, step=1)\n"
     ]
    }
   ],
   "source": [
    "# The DataFrame has an index attribute that provides row indexing information\n",
    "print(\"Index:\", df.index) # Row index object"
   ]
  },
  {
   "cell_type": "code",
   "execution_count": 19,
   "id": "876f453c",
   "metadata": {},
   "outputs": [
    {
     "name": "stdout",
     "output_type": "stream",
     "text": [
      "\n",
      "Added 'cpc' column (cost per click):\n",
      "     channel  spend  clicks  orders       cpc\n",
      "0  instagram  120.0     150      10  0.800000\n",
      "1     tiktok   80.0      40       4  2.000000\n",
      "2      email   10.0      30       1  0.333333\n",
      "3    youtube  200.0     100       8  2.000000\n",
      "4     google  150.0     200      12  0.750000\n"
     ]
    }
   ],
   "source": [
    "# Example of a vectorized computation (no loop).\n",
    "# Vectorization means that operations are applied to entire columns (Series) at once.\n",
    "# This is because a column in a DataFrame is actually a Pandas Series object, which is a vectorized data structure.\n",
    "# Add a new column with cost per click (CPC)\n",
    "\n",
    "df[\"cpc\"] = df[\"spend\"] / df[\"clicks\"]\n",
    "\n",
    "print(\"\\nAdded 'cpc' column (cost per click):\")\n",
    "print(df)"
   ]
  },
  {
   "cell_type": "markdown",
   "id": "7c8a7720",
   "metadata": {},
   "source": [
    "## Exercise 2 - Selecting and Filtering Data\n",
    "\n",
    "**Business question:**  \n",
    "\"The marketing analyst now wants to see only certain parts of the dataset - for example, channels with high spend or high performance - instead of viewing the whole table.\"\n",
    "\n",
    "**Direct question:**  \n",
    "From the existing marketing DataFrame:\n",
    "1. Select specific rows and columns.  \n",
    "2. Filter data using conditions (e.g., spend > 100).  \n",
    "3. Combine multiple conditions (e.g., spend > 100 and clicks > 100).\n",
    "\n",
    "**Goal:**  \n",
    "Learn how to **select and filter subsets of data** efficiently.  \n",
    "- Select specific rows and columns with `.loc[]` and `.iloc[]`.  \n",
    "- Apply boolean conditions and combine filters with `&` and `|`.  \n",
    "- Compare to SQL-style `SELECT … WHERE` logic.\n"
   ]
  },
  {
   "cell_type": "code",
   "execution_count": 20,
   "id": "e9d7a910",
   "metadata": {},
   "outputs": [
    {
     "name": "stdout",
     "output_type": "stream",
     "text": [
      "     channel  spend  clicks  orders       cpc\n",
      "0  instagram  120.0     150      10  0.800000\n",
      "1     tiktok   80.0      40       4  2.000000\n",
      "2      email   10.0      30       1  0.333333\n",
      "3    youtube  200.0     100       8  2.000000\n",
      "4     google  150.0     200      12  0.750000\n"
     ]
    }
   ],
   "source": [
    "# Re-Print our DataFrame\n",
    "print(df)"
   ]
  },
  {
   "cell_type": "code",
   "execution_count": 22,
   "id": "96aa6583",
   "metadata": {},
   "outputs": [
    {
     "name": "stdout",
     "output_type": "stream",
     "text": [
      "     channel  spend\n",
      "0  instagram  120.0\n",
      "1     tiktok   80.0\n",
      "2      email   10.0\n",
      "3    youtube  200.0\n",
      "4     google  150.0\n"
     ]
    }
   ],
   "source": [
    "# Selecting specific columns\n",
    "print(df[['channel', 'spend']])"
   ]
  },
  {
   "cell_type": "code",
   "execution_count": null,
   "id": "79b68f45",
   "metadata": {},
   "outputs": [
    {
     "name": "stdout",
     "output_type": "stream",
     "text": [
      "<class 'pandas.core.frame.DataFrame'>\n"
     ]
    }
   ],
   "source": [
    "# Check the type. It's a dataframe\n",
    "print(type(df[['channel', 'spend']]))"
   ]
  },
  {
   "cell_type": "code",
   "execution_count": 24,
   "id": "4d00225c",
   "metadata": {},
   "outputs": [
    {
     "name": "stdout",
     "output_type": "stream",
     "text": [
      "0    150\n",
      "1     40\n",
      "2     30\n",
      "3    100\n",
      "4    200\n",
      "Name: clicks, dtype: int64\n"
     ]
    }
   ],
   "source": [
    "# Now, select only a single column\n",
    "print(df[\"clicks\"]) "
   ]
  },
  {
   "cell_type": "code",
   "execution_count": 25,
   "id": "26e0f6f5",
   "metadata": {},
   "outputs": [
    {
     "name": "stdout",
     "output_type": "stream",
     "text": [
      "<class 'pandas.core.series.Series'>\n"
     ]
    }
   ],
   "source": [
    "# Check the type. It's a Pandas Series\n",
    "print(type(df['clicks']))"
   ]
  },
  {
   "cell_type": "code",
   "execution_count": null,
   "id": "dc224260",
   "metadata": {},
   "outputs": [
    {
     "name": "stdout",
     "output_type": "stream",
     "text": [
      "     channel  spend  clicks  orders       cpc\n",
      "0  instagram  120.0     150      10  0.800000\n",
      "1     tiktok   80.0      40       4  2.000000\n",
      "2      email   10.0      30       1  0.333333\n"
     ]
    }
   ],
   "source": [
    "# Selecting rows by position (iloc)\n",
    "# Select only the first 3 rows. \n",
    "# Notice that you the last index (3) is not included!\n",
    "# Also, notice that the row indexing start at zero!\n",
    "print(df.iloc[0:3])  # rows 0, 1, 2"
   ]
  },
  {
   "cell_type": "code",
   "execution_count": 27,
   "id": "fc690757",
   "metadata": {},
   "outputs": [
    {
     "name": "stdout",
     "output_type": "stream",
     "text": [
      "     channel  orders\n",
      "0  instagram      10\n",
      "1     tiktok       4\n",
      "2      email       1\n"
     ]
    }
   ],
   "source": [
    "# Selecting rows and columns by label (loc)\n",
    "# Selecting 'channel' and 'orders' for rows 0–2 (by label)\n",
    "print(df.loc[0:2, [\"channel\", \"orders\"]])"
   ]
  },
  {
   "cell_type": "code",
   "execution_count": null,
   "id": "7d9be1ad",
   "metadata": {},
   "outputs": [
    {
     "name": "stdout",
     "output_type": "stream",
     "text": [
      "0     True\n",
      "1    False\n",
      "2    False\n",
      "3     True\n",
      "4     True\n",
      "Name: spend, dtype: bool\n"
     ]
    }
   ],
   "source": [
    "# Filtering rows by condition. \n",
    "# Filter Channels with spend > 100.\n",
    "# First, check what happens if we do the following:\n",
    "\n",
    "boolean_series = df[\"spend\"] > 100 # This returns a boolean Series, which is true for the condition you imposed\n",
    "\n",
    "print(boolean_series)"
   ]
  },
  {
   "cell_type": "code",
   "execution_count": 30,
   "id": "7a6f35b4",
   "metadata": {},
   "outputs": [
    {
     "name": "stdout",
     "output_type": "stream",
     "text": [
      "     channel  spend  clicks  orders   cpc\n",
      "0  instagram  120.0     150      10  0.80\n",
      "3    youtube  200.0     100       8  2.00\n",
      "4     google  150.0     200      12  0.75\n"
     ]
    }
   ],
   "source": [
    "# Now, we use this condition to filter our dataframe\n",
    "\n",
    "high_spend = df[boolean_series]\n",
    "print(high_spend)"
   ]
  },
  {
   "cell_type": "code",
   "execution_count": 31,
   "id": "6970b0f1",
   "metadata": {},
   "outputs": [
    {
     "name": "stdout",
     "output_type": "stream",
     "text": [
      "     channel  spend  clicks  orders   cpc\n",
      "0  instagram  120.0     150      10  0.80\n",
      "3    youtube  200.0     100       8  2.00\n",
      "4     google  150.0     200      12  0.75\n"
     ]
    }
   ],
   "source": [
    "# We can do it directly\n",
    "high_spend = df[df[\"spend\"] > 100]\n",
    "print(high_spend)"
   ]
  },
  {
   "cell_type": "code",
   "execution_count": 32,
   "id": "6794fc96",
   "metadata": {},
   "outputs": [
    {
     "name": "stdout",
     "output_type": "stream",
     "text": [
      "     channel  spend  clicks  orders   cpc\n",
      "0  instagram  120.0     150      10  0.80\n",
      "4     google  150.0     200      12  0.75\n"
     ]
    }
   ],
   "source": [
    "# Combining multiple conditions with & (AND) and | (OR)\n",
    "# Channels with spend > 100 AND clicks > 100\n",
    "\n",
    "high_spend_high_clicks = df[(df[\"spend\"] > 100) & (df[\"clicks\"] > 100)]\n",
    "print(high_spend_high_clicks)\n"
   ]
  },
  {
   "cell_type": "code",
   "execution_count": 33,
   "id": "e5768607",
   "metadata": {},
   "outputs": [
    {
     "name": "stdout",
     "output_type": "stream",
     "text": [
      "     channel  spend  clicks  orders   cpc\n",
      "0  instagram  120.0     150      10  0.80\n",
      "3    youtube  200.0     100       8  2.00\n",
      "4     google  150.0     200      12  0.75\n"
     ]
    }
   ],
   "source": [
    "# Channels with spend > 100 OR orders > 10\n",
    "\n",
    "high_spend_or_orders = df[(df[\"spend\"] > 100) | (df[\"orders\"] > 10)]\n",
    "print(high_spend_or_orders)"
   ]
  },
  {
   "cell_type": "code",
   "execution_count": 34,
   "id": "6aca5c25",
   "metadata": {},
   "outputs": [
    {
     "name": "stdout",
     "output_type": "stream",
     "text": [
      "  channel  spend  clicks  orders       cpc\n",
      "1  tiktok   80.0      40       4  2.000000\n",
      "2   email   10.0      30       1  0.333333\n"
     ]
    }
   ],
   "source": [
    "# Negating a condition with ~ (NOT).\n",
    "# Channels where spend <= 100\n",
    "\n",
    "low_spend = df[~(df[\"spend\"] > 100)]\n",
    "print(low_spend)"
   ]
  }
 ],
 "metadata": {
  "kernelspec": {
   "display_name": ".venv",
   "language": "python",
   "name": "python3"
  },
  "language_info": {
   "codemirror_mode": {
    "name": "ipython",
    "version": 3
   },
   "file_extension": ".py",
   "mimetype": "text/x-python",
   "name": "python",
   "nbconvert_exporter": "python",
   "pygments_lexer": "ipython3",
   "version": "3.12.1"
  }
 },
 "nbformat": 4,
 "nbformat_minor": 5
}
