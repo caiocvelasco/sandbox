{
 "cells": [
  {
   "cell_type": "markdown",
   "id": "4a5ff414",
   "metadata": {},
   "source": [
    "# 🐍 Python Training - Level 0 - Essentials for Data Manipulation\n",
    "\n",
    "This notebook builds the core Python skills used daily by **Data Engineers** and **Data Analysts** and it is great for interview preparation.  \n",
    "It parallels the SQL Level 1 workbook - focusing on thinking in records (rows of datasets), transformations, and data validation, but using **pure Python**, no libraries.\n",
    "\n",
    "---\n",
    "\n",
    "Before analyzing data, we need to master how to **store**, **access**, and **loop through** values.\n",
    "\n",
    "We'll cover:\n",
    "- Variables and basic types  \n",
    "- Lists and indexing  \n",
    "- Dictionaries and key access  \n",
    "- Loops (`for`)  \n",
    "- Conditionals (`if`)  \n",
    "- Combining them to read and filter records\n"
   ]
  },
  {
   "cell_type": "markdown",
   "id": "9498f426",
   "metadata": {},
   "source": [
    "## Exercise 1 - Variables and Types"
   ]
  },
  {
   "cell_type": "code",
   "execution_count": 1,
   "id": "e27e3458",
   "metadata": {},
   "outputs": [],
   "source": [
    "# Create variables\n",
    "name = \"Alice\"\n",
    "age = 30\n",
    "revenue = 1200.50"
   ]
  },
  {
   "cell_type": "code",
   "execution_count": 3,
   "id": "c3792824",
   "metadata": {},
   "outputs": [
    {
     "name": "stdout",
     "output_type": "stream",
     "text": [
      "Type of name:  <class 'str'>\n",
      "Type of age:  <class 'int'>\n",
      "Type of revenue:  <class 'float'>\n"
     ]
    }
   ],
   "source": [
    "# Check Data Types\n",
    "print(\"Type of name: \", type(name))\n",
    "print(\"Type of age: \", type(age))\n",
    "print(\"Type of revenue: \", type(revenue))"
   ]
  },
  {
   "cell_type": "markdown",
   "id": "9fd2bd40",
   "metadata": {},
   "source": [
    "## Exercise 2 - Lists and Indexing"
   ]
  },
  {
   "cell_type": "code",
   "execution_count": 4,
   "id": "c43130ae",
   "metadata": {},
   "outputs": [],
   "source": [
    "# Create a list of customers\n",
    "customers = [\"Alice\", \"Bob\", \"Carlos\"]"
   ]
  },
  {
   "cell_type": "code",
   "execution_count": 7,
   "id": "566fe6cb",
   "metadata": {},
   "outputs": [
    {
     "name": "stdout",
     "output_type": "stream",
     "text": [
      "Alice\n"
     ]
    }
   ],
   "source": [
    "# Print the first element\n",
    "print(customers[0])"
   ]
  },
  {
   "cell_type": "code",
   "execution_count": 8,
   "id": "0f78ab52",
   "metadata": {},
   "outputs": [
    {
     "name": "stdout",
     "output_type": "stream",
     "text": [
      "Alice\n",
      "Bob\n",
      "Carlos\n"
     ]
    }
   ],
   "source": [
    "# Loop through the list and print each name\n",
    "for i in customers:\n",
    "    print(i)"
   ]
  },
  {
   "cell_type": "markdown",
   "id": "dab23fe9",
   "metadata": {},
   "source": [
    "## Exercise 3 - Dictionaries and Key Access"
   ]
  },
  {
   "cell_type": "code",
   "execution_count": 18,
   "id": "18c0528d",
   "metadata": {},
   "outputs": [],
   "source": [
    "# Create a dictionary 'booking_dict' with the first record:\n",
    "# -> booking_id: 1, status: 'confirmed', amount: 100\n",
    "\n",
    "booking_dict = {\"booking_id\": 1, \"status\": 'confirmed', \"amount\": 100}\n"
   ]
  },
  {
   "cell_type": "code",
   "execution_count": null,
   "id": "2a4fc376",
   "metadata": {},
   "outputs": [
    {
     "name": "stdout",
     "output_type": "stream",
     "text": [
      "{'booking_id': 1, 'status': 'confirmed', 'amount': 100}\n"
     ]
    }
   ],
   "source": [
    "# Print the dictionary\n",
    "print(booking_dict)"
   ]
  },
  {
   "cell_type": "code",
   "execution_count": 19,
   "id": "74c80f5d",
   "metadata": {},
   "outputs": [
    {
     "name": "stdout",
     "output_type": "stream",
     "text": [
      "<class 'dict'>\n"
     ]
    }
   ],
   "source": [
    "# Check that this variable is indeed a dictionary\n",
    "print(type(booking_dict))"
   ]
  },
  {
   "cell_type": "code",
   "execution_count": 20,
   "id": "37d883e3",
   "metadata": {},
   "outputs": [
    {
     "name": "stdout",
     "output_type": "stream",
     "text": [
      "1\n"
     ]
    }
   ],
   "source": [
    "# Access the booking_id item of the dictionary and check its value\n",
    "print(booking_dict[\"booking_id\"])"
   ]
  },
  {
   "cell_type": "code",
   "execution_count": 21,
   "id": "e378b608",
   "metadata": {},
   "outputs": [],
   "source": [
    "# Add a new key \"currency\" with the value \"EUR\".\n",
    "booking_dict[\"currency\"] = \"EUR\""
   ]
  },
  {
   "cell_type": "code",
   "execution_count": 22,
   "id": "e68fba89",
   "metadata": {},
   "outputs": [
    {
     "name": "stdout",
     "output_type": "stream",
     "text": [
      "{'booking_id': 1, 'status': 'confirmed', 'amount': 100, 'currency': 'EUR'}\n",
      "EUR\n"
     ]
    }
   ],
   "source": [
    "# Print the new dictionary and its new item's value\n",
    "print(booking_dict)\n",
    "print(booking_dict[\"currency\"])"
   ]
  },
  {
   "cell_type": "markdown",
   "id": "6f6bcf29",
   "metadata": {},
   "source": [
    "## Exercise 4 - Looping through a List of Dictionaries"
   ]
  },
  {
   "cell_type": "code",
   "execution_count": null,
   "id": "571918f2",
   "metadata": {},
   "outputs": [],
   "source": [
    "## Now, suppose we have this list, where each element is a dictionary\n",
    "\n",
    "booking_list = [\n",
    "    {\"booking_id\": 1, \"status\": \"confirmed\"},\n",
    "    {\"booking_id\": 2, \"status\": \"cancelled\"},\n",
    "]"
   ]
  },
  {
   "cell_type": "code",
   "execution_count": 25,
   "id": "022a04b0",
   "metadata": {},
   "outputs": [
    {
     "name": "stdout",
     "output_type": "stream",
     "text": [
      "<class 'list'>\n"
     ]
    }
   ],
   "source": [
    "# Check that it is a list\n",
    "print(type(booking_list))"
   ]
  },
  {
   "cell_type": "code",
   "execution_count": 29,
   "id": "d4b65838",
   "metadata": {},
   "outputs": [
    {
     "name": "stdout",
     "output_type": "stream",
     "text": [
      "Booking ID:  1 - Status:  confirmed\n",
      "Booking ID:  2 - Status:  cancelled\n"
     ]
    }
   ],
   "source": [
    "# Loop through it and print the booking id and its status, for every booking\n",
    "for i in booking_list:\n",
    "    print(\"Booking ID: \", i[\"booking_id\"], \"- Status: \", i[\"status\"])"
   ]
  },
  {
   "cell_type": "markdown",
   "id": "ad7c9778",
   "metadata": {},
   "source": [
    "## Exercise 5 - Conditionals"
   ]
  },
  {
   "cell_type": "code",
   "execution_count": 31,
   "id": "708671cb",
   "metadata": {},
   "outputs": [
    {
     "name": "stdout",
     "output_type": "stream",
     "text": [
      "There are:  1  confirmed bookings.\n"
     ]
    }
   ],
   "source": [
    "# Read the records in the booking list\n",
    "# If the status = confirmed, count it.\n",
    "my_counter = 0\n",
    "\n",
    "for i in booking_list:\n",
    "    if i[\"status\"] == \"confirmed\":\n",
    "        my_counter += 1\n",
    "\n",
    "print(\"There are: \", my_counter, \" confirmed bookings.\")  "
   ]
  },
  {
   "cell_type": "markdown",
   "id": "cf758d1e",
   "metadata": {},
   "source": [
    "## Exercise 6 - Nested Access"
   ]
  },
  {
   "cell_type": "code",
   "execution_count": 32,
   "id": "5c22fb3d",
   "metadata": {},
   "outputs": [],
   "source": [
    "## Now, suppose we have this nested dictionary.\n",
    "## Note that the value of each item, in this case, is also a dictionary\n",
    "\n",
    "nested_booking_dict = {\n",
    "    \"booking\": {\"id\": 1, \"details\": {\"amount\": 120, \"currency\": \"EUR\"}}\n",
    "}\n"
   ]
  },
  {
   "cell_type": "code",
   "execution_count": 33,
   "id": "0161e4ac",
   "metadata": {},
   "outputs": [
    {
     "name": "stdout",
     "output_type": "stream",
     "text": [
      "<class 'dict'>\n"
     ]
    }
   ],
   "source": [
    "# Check if it is a dictionary\n",
    "print(type(nested_booking_dict))"
   ]
  },
  {
   "cell_type": "code",
   "execution_count": 36,
   "id": "f8c2c430",
   "metadata": {},
   "outputs": [
    {
     "name": "stdout",
     "output_type": "stream",
     "text": [
      "1\n"
     ]
    }
   ],
   "source": [
    "# Get the id of the first booking record\n",
    "print(nested_booking_dict[\"booking\"][\"id\"])"
   ]
  },
  {
   "cell_type": "code",
   "execution_count": 35,
   "id": "608ce4da",
   "metadata": {},
   "outputs": [
    {
     "name": "stdout",
     "output_type": "stream",
     "text": [
      "120\n"
     ]
    }
   ],
   "source": [
    "# Get the amount of the first booking record\n",
    "print(nested_booking_dict[\"booking\"][\"details\"][\"amount\"])"
   ]
  },
  {
   "cell_type": "markdown",
   "id": "a7630a41",
   "metadata": {},
   "source": [
    "## ✅ Summary\n",
    "\n",
    "At this stage, you can:\n",
    "- Access elements in lists and dictionaries  \n",
    "- Loop through data structures  \n",
    "- Use `if` conditions to filter or count records  \n",
    "- Navigate nested dictionaries (common in JSONs)"
   ]
  }
 ],
 "metadata": {
  "kernelspec": {
   "display_name": ".venv",
   "language": "python",
   "name": "python3"
  },
  "language_info": {
   "codemirror_mode": {
    "name": "ipython",
    "version": 3
   },
   "file_extension": ".py",
   "mimetype": "text/x-python",
   "name": "python",
   "nbconvert_exporter": "python",
   "pygments_lexer": "ipython3",
   "version": "3.12.1"
  }
 },
 "nbformat": 4,
 "nbformat_minor": 5
}
